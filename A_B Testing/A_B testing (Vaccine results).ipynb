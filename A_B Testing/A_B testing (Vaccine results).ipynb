{
 "cells": [
  {
   "cell_type": "markdown",
   "id": "33eb67a1",
   "metadata": {},
   "source": [
    "Let's consider an A/B test example where you want to analyze the effect of a vaccine on patients' health before and after its administration."
   ]
  },
  {
   "cell_type": "code",
   "execution_count": 1,
   "id": "d1edcc6d",
   "metadata": {},
   "outputs": [],
   "source": [
    "# Generate Synthetic Dataset:\n",
    "\n",
    "import pandas as pd\n",
    "import numpy as np\n",
    "\n",
    "np.random.seed(42)\n",
    "\n",
    "n_patients = 100  # Total number of patients\n",
    "health_scores_before = np.random.normal(70, 10, n_patients)  # Health scores before vaccine\n",
    "health_scores_after = np.random.normal(75, 10, n_patients)   # Health scores after vaccine\n",
    "\n",
    "# Create a DataFrame\n",
    "data = pd.DataFrame({\n",
    "    'patient_id': range(1, n_patients+1),\n",
    "    'health_before': health_scores_before,\n",
    "    'health_after': health_scores_after\n",
    "})"
   ]
  },
  {
   "cell_type": "code",
   "execution_count": 2,
   "id": "8a401411",
   "metadata": {},
   "outputs": [
    {
     "data": {
      "text/html": [
       "<div>\n",
       "<style scoped>\n",
       "    .dataframe tbody tr th:only-of-type {\n",
       "        vertical-align: middle;\n",
       "    }\n",
       "\n",
       "    .dataframe tbody tr th {\n",
       "        vertical-align: top;\n",
       "    }\n",
       "\n",
       "    .dataframe thead th {\n",
       "        text-align: right;\n",
       "    }\n",
       "</style>\n",
       "<table border=\"1\" class=\"dataframe\">\n",
       "  <thead>\n",
       "    <tr style=\"text-align: right;\">\n",
       "      <th></th>\n",
       "      <th>patient_id</th>\n",
       "      <th>health_before</th>\n",
       "      <th>health_after</th>\n",
       "    </tr>\n",
       "  </thead>\n",
       "  <tbody>\n",
       "    <tr>\n",
       "      <th>0</th>\n",
       "      <td>1</td>\n",
       "      <td>74.967142</td>\n",
       "      <td>60.846293</td>\n",
       "    </tr>\n",
       "    <tr>\n",
       "      <th>1</th>\n",
       "      <td>2</td>\n",
       "      <td>68.617357</td>\n",
       "      <td>70.793547</td>\n",
       "    </tr>\n",
       "    <tr>\n",
       "      <th>2</th>\n",
       "      <td>3</td>\n",
       "      <td>76.476885</td>\n",
       "      <td>71.572855</td>\n",
       "    </tr>\n",
       "    <tr>\n",
       "      <th>3</th>\n",
       "      <td>4</td>\n",
       "      <td>85.230299</td>\n",
       "      <td>66.977227</td>\n",
       "    </tr>\n",
       "    <tr>\n",
       "      <th>4</th>\n",
       "      <td>5</td>\n",
       "      <td>67.658466</td>\n",
       "      <td>73.387143</td>\n",
       "    </tr>\n",
       "    <tr>\n",
       "      <th>5</th>\n",
       "      <td>6</td>\n",
       "      <td>67.658630</td>\n",
       "      <td>79.040509</td>\n",
       "    </tr>\n",
       "    <tr>\n",
       "      <th>6</th>\n",
       "      <td>7</td>\n",
       "      <td>85.792128</td>\n",
       "      <td>93.861859</td>\n",
       "    </tr>\n",
       "    <tr>\n",
       "      <th>7</th>\n",
       "      <td>8</td>\n",
       "      <td>77.674347</td>\n",
       "      <td>76.745778</td>\n",
       "    </tr>\n",
       "    <tr>\n",
       "      <th>8</th>\n",
       "      <td>9</td>\n",
       "      <td>65.305256</td>\n",
       "      <td>77.575504</td>\n",
       "    </tr>\n",
       "    <tr>\n",
       "      <th>9</th>\n",
       "      <td>10</td>\n",
       "      <td>75.425600</td>\n",
       "      <td>74.255541</td>\n",
       "    </tr>\n",
       "  </tbody>\n",
       "</table>\n",
       "</div>"
      ],
      "text/plain": [
       "   patient_id  health_before  health_after\n",
       "0           1      74.967142     60.846293\n",
       "1           2      68.617357     70.793547\n",
       "2           3      76.476885     71.572855\n",
       "3           4      85.230299     66.977227\n",
       "4           5      67.658466     73.387143\n",
       "5           6      67.658630     79.040509\n",
       "6           7      85.792128     93.861859\n",
       "7           8      77.674347     76.745778\n",
       "8           9      65.305256     77.575504\n",
       "9          10      75.425600     74.255541"
      ]
     },
     "execution_count": 2,
     "metadata": {},
     "output_type": "execute_result"
    }
   ],
   "source": [
    "data.head(10)"
   ]
  },
  {
   "cell_type": "code",
   "execution_count": 4,
   "id": "b8121e08",
   "metadata": {},
   "outputs": [
    {
     "data": {
      "text/plain": [
       "(-4.460504825796643, 2.1631732032138625e-05)"
      ]
     },
     "execution_count": 4,
     "metadata": {},
     "output_type": "execute_result"
    }
   ],
   "source": [
    "# Perform A/B Test:\n",
    "\n",
    "from scipy.stats import ttest_rel\n",
    "\n",
    "# Perform a paired-sample t-test\n",
    "t_statistic, p_value = ttest_rel(data['health_before'], data['health_after'])\n",
    "\n",
    "t_statistic, p_value"
   ]
  },
  {
   "cell_type": "code",
   "execution_count": 5,
   "id": "8fc6508d",
   "metadata": {},
   "outputs": [
    {
     "name": "stdout",
     "output_type": "stream",
     "text": [
      "Null hypothesis rejected. There is a significant difference in health scores before and after the vaccine.\n"
     ]
    }
   ],
   "source": [
    "# Define significance level\n",
    "alpha = 0.05\n",
    "\n",
    "# Check if the p-value is below the significance level\n",
    "if p_value < alpha:\n",
    "    print(\"Null hypothesis rejected. There is a significant difference in health scores before and after the vaccine.\")\n",
    "else:\n",
    "    print(\"Null hypothesis not rejected. There is no significant difference in health scores before and after the vaccine.\")"
   ]
  }
 ],
 "metadata": {
  "kernelspec": {
   "display_name": "Python 3 (ipykernel)",
   "language": "python",
   "name": "python3"
  },
  "language_info": {
   "codemirror_mode": {
    "name": "ipython",
    "version": 3
   },
   "file_extension": ".py",
   "mimetype": "text/x-python",
   "name": "python",
   "nbconvert_exporter": "python",
   "pygments_lexer": "ipython3",
   "version": "3.9.7"
  }
 },
 "nbformat": 4,
 "nbformat_minor": 5
}
