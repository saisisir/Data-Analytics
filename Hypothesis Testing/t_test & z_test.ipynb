{
 "cells": [
  {
   "cell_type": "markdown",
   "id": "1142597b",
   "metadata": {},
   "source": [
    "# Hypothesis Testing is a statistical technique for making inferences from data.\n",
    "\n",
    "here are a few examples of hypothesis testing in Python using different statistical tests and libraries. \n",
    "\n",
    "Please note that these examples use synthetic or well-known datasets for demonstration purposes. In real-world scenarios, we would be working with our own data."
   ]
  },
  {
   "cell_type": "code",
   "execution_count": 5,
   "id": "86d1369c",
   "metadata": {},
   "outputs": [
    {
     "data": {
      "text/plain": [
       "(4.362114673760755, 1.2881131997978189e-05)"
      ]
     },
     "execution_count": 5,
     "metadata": {},
     "output_type": "execute_result"
    }
   ],
   "source": [
    "# One-Sample Z-Test:\n",
    "\n",
    "# Scenario: We have a dataset of exam scores, and we want to test if the average score is significantly different from a \n",
    "# certain value (e.g., a population average).\n",
    "\n",
    "import numpy as np\n",
    "import statsmodels.api as sm\n",
    "\n",
    "# Generate synthetic data\n",
    "np.random.seed(42)\n",
    "exam_scores = np.random.normal(75, 10, 100)\n",
    "\n",
    "# Perform one-sample Z-test\n",
    "population_mean = 70\n",
    "z_statistic, p_value = sm.stats.ztest(exam_scores, value=population_mean)\n",
    "\n",
    "z_statistic, p_value"
   ]
  },
  {
   "cell_type": "code",
   "execution_count": 6,
   "id": "23ae4fb7",
   "metadata": {},
   "outputs": [
    {
     "name": "stdout",
     "output_type": "stream",
     "text": [
      "Null hypothesis rejected. The average exam score is significantly different from 70\n"
     ]
    }
   ],
   "source": [
    "alpha = 0.05\n",
    "\n",
    "if p_value < alpha:\n",
    "    print(\"Null hypothesis rejected. The average exam score is significantly different from\", population_mean)\n",
    "else:\n",
    "    print(\"Null hypothesis not rejected. There is no significant difference.\")"
   ]
  },
  {
   "cell_type": "code",
   "execution_count": 7,
   "id": "ada9acab",
   "metadata": {},
   "outputs": [
    {
     "data": {
      "text/plain": [
       "(6.426702524624792, 4.737343986322175e-09)"
      ]
     },
     "execution_count": 7,
     "metadata": {},
     "output_type": "execute_result"
    }
   ],
   "source": [
    "# Two-Sample T-Test (Independent):\n",
    "# Scenario: We want to compare the average heights of male and female students.\n",
    "\n",
    "import numpy as np\n",
    "from scipy import stats\n",
    "\n",
    "# Generate synthetic data\n",
    "np.random.seed(42)\n",
    "male_heights = np.random.normal(175, 10, 50)\n",
    "female_heights = np.random.normal(162, 8, 50)\n",
    "\n",
    "# Perform two-sample independent t-test\n",
    "t_statistic, p_value = stats.ttest_ind(male_heights, female_heights)\n",
    "\n",
    "t_statistic, p_value"
   ]
  },
  {
   "cell_type": "code",
   "execution_count": 8,
   "id": "55225c58",
   "metadata": {},
   "outputs": [
    {
     "name": "stdout",
     "output_type": "stream",
     "text": [
      "Null hypothesis rejected. There is a significant difference in average heights.\n"
     ]
    }
   ],
   "source": [
    "alpha = 0.05\n",
    "if p_value < alpha:\n",
    "    print(\"Null hypothesis rejected. There is a significant difference in average heights.\")\n",
    "else:\n",
    "    print(\"Null hypothesis not rejected. There is no significant difference.\")"
   ]
  },
  {
   "cell_type": "code",
   "execution_count": 9,
   "id": "5d267a5d",
   "metadata": {},
   "outputs": [
    {
     "data": {
      "text/plain": [
       "(11.052295863013416, 6.504336158636233e-12)"
      ]
     },
     "execution_count": 9,
     "metadata": {},
     "output_type": "execute_result"
    }
   ],
   "source": [
    "# Paired T-Test:\n",
    "# Scenario: We want to test if there's a significant difference in weight before and after a diet intervention.\n",
    "\n",
    "import numpy as np\n",
    "from scipy import stats\n",
    "\n",
    "# Generate synthetic data\n",
    "np.random.seed(42)\n",
    "weight_before = np.random.normal(70, 5, 30)\n",
    "weight_after = weight_before - np.random.normal(2, 1, 30)\n",
    "\n",
    "# Perform paired t-test\n",
    "t_statistic, p_value = stats.ttest_rel(weight_before, weight_after)\n",
    "\n",
    "t_statistic, p_value"
   ]
  },
  {
   "cell_type": "code",
   "execution_count": 10,
   "id": "25757be4",
   "metadata": {},
   "outputs": [
    {
     "name": "stdout",
     "output_type": "stream",
     "text": [
      "Null hypothesis rejected. There is a significant difference in weights before and after the intervention.\n"
     ]
    }
   ],
   "source": [
    "alpha = 0.05\n",
    "if p_value < alpha:\n",
    "    print(\"Null hypothesis rejected. There is a significant difference in weights before and after the intervention.\")\n",
    "else:\n",
    "    print(\"Null hypothesis not rejected. There is no significant difference.\")"
   ]
  },
  {
   "cell_type": "markdown",
   "id": "05093acf",
   "metadata": {},
   "source": [
    "These examples demonstrate different types of hypothesis tests using various statistical tests available in the scipy.stats module. The code checks the p-value against a predefined significance level (alpha) to determine whether to reject the null hypothesis or not. \n",
    "\n",
    "Remember that hypothesis testing requires careful consideration of assumptions and context, and the results should be interpreted accordingly."
   ]
  }
 ],
 "metadata": {
  "kernelspec": {
   "display_name": "Python 3 (ipykernel)",
   "language": "python",
   "name": "python3"
  },
  "language_info": {
   "codemirror_mode": {
    "name": "ipython",
    "version": 3
   },
   "file_extension": ".py",
   "mimetype": "text/x-python",
   "name": "python",
   "nbconvert_exporter": "python",
   "pygments_lexer": "ipython3",
   "version": "3.9.7"
  }
 },
 "nbformat": 4,
 "nbformat_minor": 5
}
